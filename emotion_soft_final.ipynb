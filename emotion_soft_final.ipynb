{
 "cells": [
  {
   "cell_type": "code",
   "execution_count": 1,
   "metadata": {},
   "outputs": [],
   "source": [
    "from sklearn.ensemble import VotingClassifier\n",
    "from sklearn.model_selection import train_test_split, GridSearchCV\n",
    "from sklearn.metrics import accuracy_score\n",
    "from sklearn.linear_model import LogisticRegression\n",
    "from sklearn.svm import SVC\n",
    "from sklearn.ensemble import RandomForestClassifier, GradientBoostingClassifier\n",
    "from sklearn.neighbors import KNeighborsClassifier\n",
    "from sklearn.preprocessing import StandardScaler\n"
   ]
  },
  {
   "cell_type": "code",
   "execution_count": 2,
   "metadata": {},
   "outputs": [],
   "source": [
    "import pandas as pd \n",
    "def load_train_data():\n",
    "    data = pd.read_csv('Acoustic_train.csv')\n",
    "    return data\n",
    "\n",
    "def load_test_data():\n",
    "    data = pd.read_csv('Acoustic_test_no_class.csv')\n",
    "    return data\n",
    "\n",
    "train_data = load_train_data()\n",
    "test_data = load_test_data()"
   ]
  },
  {
   "cell_type": "code",
   "execution_count": 3,
   "metadata": {},
   "outputs": [],
   "source": [
    "# Load and preprocess data\n",
    "X_train = train_data.drop(columns=[\"Index\", \"Class\"])\n",
    "y_train = train_data[\"Class\"]\n"
   ]
  },
  {
   "cell_type": "code",
   "execution_count": 4,
   "metadata": {},
   "outputs": [],
   "source": [
    "# Scale features\n",
    "scaler = StandardScaler()\n",
    "X_train_scaled = scaler.fit_transform(X_train)"
   ]
  },
  {
   "cell_type": "code",
   "execution_count": 5,
   "metadata": {},
   "outputs": [],
   "source": [
    "# Split into train and validation sets\n",
    "X_train_split, X_val, y_train_split, y_val = train_test_split(\n",
    "    X_train_scaled, y_train, test_size=0.2, random_state=42\n",
    ")\n"
   ]
  },
  {
   "cell_type": "code",
   "execution_count": 6,
   "metadata": {},
   "outputs": [],
   "source": [
    "# Define Base Models\n",
    "model1 = LogisticRegression(max_iter=1000, random_state=42)\n",
    "model2 = SVC(probability=True, kernel='rbf', random_state=42)\n",
    "model3 = RandomForestClassifier(n_estimators=100, random_state=42)\n",
    "model4 = GradientBoostingClassifier(n_estimators=100, random_state=42)\n",
    "model5 = KNeighborsClassifier(n_neighbors=5)\n",
    "\n",
    "# Combine Base Models in Soft Voting Classifier\n",
    "ensemble_model = VotingClassifier(\n",
    "    estimators=[\n",
    "        ('lr', model1),\n",
    "        ('svc', model2),\n",
    "        ('rf', model3),\n",
    "        ('gb', model4),\n",
    "        ('knn', model5)\n",
    "    ],\n",
    "    voting='soft'\n",
    ")\n"
   ]
  },
  {
   "cell_type": "code",
   "execution_count": 7,
   "metadata": {},
   "outputs": [
    {
     "name": "stdout",
     "output_type": "stream",
     "text": [
      "Validation Accuracy with Soft Voting Ensemble: 0.8166666666666667\n"
     ]
    }
   ],
   "source": [
    "# Train the Ensemble Model\n",
    "ensemble_model.fit(X_train_split, y_train_split)\n",
    "\n",
    "# Make predictions\n",
    "y_val_pred = ensemble_model.predict(X_val)\n",
    "\n",
    "# Calculate Accuracy\n",
    "accuracy = accuracy_score(y_val, y_val_pred)\n",
    "print(\"Validation Accuracy with Soft Voting Ensemble:\", accuracy)\n"
   ]
  },
  {
   "cell_type": "code",
   "execution_count": 10,
   "metadata": {},
   "outputs": [
    {
     "data": {
      "image/png": "[encoded data removed]",
      "text/plain": [
       "<Figure size 1000x700 with 2 Axes>"
      ]
     },
     "metadata": {},
     "output_type": "display_data"
    }
   ],
   "source": [
    "from sklearn.metrics import confusion_matrix\n",
    "import seaborn as sns\n",
    "\n",
    "import matplotlib.pyplot as plt\n",
    "\n",
    "# Generate the confusion matrix\n",
    "conf_matrix = confusion_matrix(y_val, y_val_pred)\n",
    "\n",
    "# Plot the confusion matrix\n",
    "plt.figure(figsize=(10, 7))\n",
    "sns.heatmap(conf_matrix, annot=True, fmt='d', cmap='Blues', xticklabels=ensemble_model.classes_, yticklabels=ensemble_model.classes_)\n",
    "plt.xlabel('Predicted')\n",
    "plt.ylabel('Actual')\n",
    "plt.title('Confusion Matrix')\n",
    "plt.show()"
   ]
  },
  {
   "cell_type": "code",
   "execution_count": 8,
   "metadata": {},
   "outputs": [
    {
     "name": "stdout",
     "output_type": "stream",
     "text": [
      "Predicted Class Labels for Test Data: ['sad' 'sad' 'relax' 'relax' 'relax' 'relax' 'sad' 'sad' 'sad' 'happy'\n",
      " 'sad' 'angry' 'sad' 'relax' 'happy' 'relax' 'angry' 'angry' 'sad' 'angry'\n",
      " 'relax' 'angry' 'angry' 'sad' 'sad' 'angry' 'happy' 'relax' 'angry'\n",
      " 'happy' 'angry' 'happy' 'sad' 'relax' 'sad' 'happy' 'happy' 'angry'\n",
      " 'happy' 'happy' 'angry' 'relax' 'sad' 'relax' 'sad' 'angry' 'happy'\n",
      " 'happy' 'relax' 'happy' 'relax' 'angry' 'happy' 'relax' 'angry' 'relax'\n",
      " 'sad' 'happy' 'angry' 'happy' 'happy' 'sad' 'happy' 'relax' 'happy' 'sad'\n",
      " 'happy' 'sad' 'happy' 'relax' 'angry' 'happy' 'sad' 'sad' 'angry' 'sad'\n",
      " 'happy' 'angry' 'happy' 'relax' 'relax' 'sad' 'relax' 'relax' 'relax'\n",
      " 'relax' 'relax' 'angry' 'happy' 'relax' 'sad' 'angry' 'happy' 'sad'\n",
      " 'happy' 'angry' 'angry' 'happy' 'happy' 'relax']\n"
     ]
    }
   ],
   "source": [
    "# Preprocess the test data\n",
    "X_test = test_data.drop(columns=[\"Index\"])\n",
    "X_test_scaled = scaler.transform(X_test)\n",
    "\n",
    "# Make predictions on the test data\n",
    "y_test_pred = ensemble_model.predict(X_test_scaled)\n",
    "\n",
    "# Print the predicted class labels\n",
    "print(\"Predicted Class Labels for Test Data:\", y_test_pred)"
   ]
  },
  {
   "cell_type": "code",
   "execution_count": 9,
   "metadata": {},
   "outputs": [],
   "source": [
    "# Add the predicted class labels to the test data\n",
    "test_data['Predicted_Class'] = y_test_pred\n",
    "\n",
    "# Save the test data with the predicted class labels to a CSV file\n",
    "test_data.to_csv('Acoustic_test_with_predictions.csv', index=False)"
   ]
  }
 ],
 "metadata": {
  "kernelspec": {
   "display_name": "Python 3",
   "language": "python",
   "name": "python3"
  },
  "language_info": {
   "codemirror_mode": {
    "name": "ipython",
    "version": 3
   },
   "file_extension": ".py",
   "mimetype": "text/x-python",
   "name": "python",
   "nbconvert_exporter": "python",
   "pygments_lexer": "ipython3",
   "version": "3.12.8"
  }
 },
 "nbformat": 4,
 "nbformat_minor": 2
}
