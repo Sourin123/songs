{
 "cells": [
  {
   "cell_type": "code",
   "execution_count": 1,
   "metadata": {},
   "outputs": [],
   "source": [
    "import numpy as np\n",
    "from sklearn.model_selection import train_test_split\n",
    "from sklearn.linear_model import LogisticRegression\n",
    "from sklearn.metrics import accuracy_score"
   ]
  },
  {
   "cell_type": "code",
   "execution_count": 2,
   "metadata": {},
   "outputs": [],
   "source": [
    "import pandas as pd \n",
    "def load_train_data():\n",
    "    data = pd.read_csv('Acoustic_train.csv')\n",
    "    return data\n",
    "\n",
    "def load_test_data():\n",
    "    data = pd.read_csv('Acoustic_test_no_class.csv')\n",
    "    return data\n",
    "\n",
    "train_data = load_train_data()\n",
    "test_data = load_test_data()"
   ]
  },
  {
   "cell_type": "code",
   "execution_count": 9,
   "metadata": {},
   "outputs": [
    {
     "name": "stdout",
     "output_type": "stream",
     "text": [
      "Accuracy: 0.68\n"
     ]
    }
   ],
   "source": [
    "from sklearn.model_selection import train_test_split\n",
    "from sklearn.preprocessing import StandardScaler\n",
    "from sklearn.linear_model import LogisticRegression\n",
    "from sklearn.metrics import accuracy_score\n",
    "\n",
    "# Scale the data\n",
    "scaler = StandardScaler()\n",
    "X_scaled = scaler.fit_transform(train_data.drop('Class', axis=1))\n",
    "y = train_data['Class']\n",
    "\n",
    "# Split the data\n",
    "X_train, X_test, y_train, y_test = train_test_split(X_scaled, y, test_size=0.2, random_state=42)\n",
    "\n",
    "# Initialize the model with increased max_iter\n",
    "model = LogisticRegression(max_iter=500)\n",
    "\n",
    "# Train the model\n",
    "model.fit(X_train, y_train)\n",
    "\n",
    "# Make predictions\n",
    "y_pred = model.predict(X_test)\n",
    "\n",
    "# Evaluate the model\n",
    "accuracy = accuracy_score(y_test, y_pred)\n",
    "print(f'Accuracy: {accuracy:.2f}')\n"
   ]
  },
  {
   "cell_type": "code",
   "execution_count": 17,
   "metadata": {},
   "outputs": [
    {
     "name": "stdout",
     "output_type": "stream",
     "text": [
      "['sad' 'sad' 'relax' 'sad' 'relax' 'relax' 'angry' 'relax' 'sad' 'happy'\n",
      " 'relax' 'happy' 'sad' 'relax' 'happy' 'relax' 'angry' 'angry' 'sad'\n",
      " 'relax' 'relax' 'relax' 'angry' 'sad' 'sad' 'angry' 'happy' 'relax'\n",
      " 'angry' 'happy' 'angry' 'happy' 'relax' 'relax' 'sad' 'relax' 'happy'\n",
      " 'angry' 'happy' 'happy' 'angry' 'sad' 'relax' 'relax' 'angry' 'angry'\n",
      " 'happy' 'happy' 'sad' 'happy' 'relax' 'angry' 'sad' 'relax' 'angry' 'sad'\n",
      " 'sad' 'happy' 'relax' 'happy' 'happy' 'sad' 'happy' 'sad' 'happy' 'relax'\n",
      " 'happy' 'sad' 'happy' 'relax' 'sad' 'happy' 'angry' 'sad' 'angry' 'sad'\n",
      " 'happy' 'angry' 'happy' 'relax' 'relax' 'relax' 'sad' 'relax' 'relax'\n",
      " 'relax' 'relax' 'angry' 'happy' 'relax' 'sad' 'angry' 'happy' 'sad'\n",
      " 'happy' 'angry' 'angry' 'happy' 'happy' 'relax']\n"
     ]
    }
   ],
   "source": [
    "# Ensure the feature names match by including the 'Index' column\n",
    "X_test_scaled = scaler.transform(test_data)\n",
    "\n",
    "# Make predictions on the test data\n",
    "test_predictions = model.predict(X_test_scaled)\n",
    "\n",
    "# Print the predictions\n",
    "print(test_predictions)"
   ]
  },
  {
   "cell_type": "code",
   "execution_count": null,
   "metadata": {},
   "outputs": [],
   "source": []
  }
 ],
 "metadata": {
  "kernelspec": {
   "display_name": "Python 3",
   "language": "python",
   "name": "python3"
  },
  "language_info": {
   "codemirror_mode": {
    "name": "ipython",
    "version": 3
   },
   "file_extension": ".py",
   "mimetype": "text/x-python",
   "name": "python",
   "nbconvert_exporter": "python",
   "pygments_lexer": "ipython3",
   "version": "3.12.8"
  }
 },
 "nbformat": 4,
 "nbformat_minor": 2
}
